{
 "cells": [
  {
   "cell_type": "code",
   "execution_count": 18,
   "id": "1ad81e9f",
   "metadata": {},
   "outputs": [
    {
     "ename": "ModuleNotFoundError",
     "evalue": "No module named 'statsmodels'",
     "output_type": "error",
     "traceback": [
      "\u001b[1;31m---------------------------------------------------------------------------\u001b[0m",
      "\u001b[1;31mModuleNotFoundError\u001b[0m                       Traceback (most recent call last)",
      "\u001b[1;32m~\\AppData\\Local\\Temp/ipykernel_25568/1143207076.py\u001b[0m in \u001b[0;36m<module>\u001b[1;34m\u001b[0m\n\u001b[0;32m      4\u001b[0m \u001b[1;32mfrom\u001b[0m \u001b[0mscipy\u001b[0m\u001b[1;33m.\u001b[0m\u001b[0mstats\u001b[0m \u001b[1;32mimport\u001b[0m \u001b[0mbinom_test\u001b[0m\u001b[1;33m\u001b[0m\u001b[1;33m\u001b[0m\u001b[0m\n\u001b[0;32m      5\u001b[0m \u001b[1;32mfrom\u001b[0m \u001b[0mscipy\u001b[0m\u001b[1;33m.\u001b[0m\u001b[0mstats\u001b[0m \u001b[1;32mimport\u001b[0m \u001b[0mf_oneway\u001b[0m\u001b[1;33m\u001b[0m\u001b[1;33m\u001b[0m\u001b[0m\n\u001b[1;32m----> 6\u001b[1;33m \u001b[1;32mfrom\u001b[0m \u001b[0mstatsmodels\u001b[0m\u001b[1;33m.\u001b[0m\u001b[0mstats\u001b[0m\u001b[1;33m.\u001b[0m\u001b[0mmulticomp\u001b[0m \u001b[1;32mimport\u001b[0m \u001b[0mpairwise_tukeyhsd\u001b[0m\u001b[1;33m\u001b[0m\u001b[1;33m\u001b[0m\u001b[0m\n\u001b[0m\u001b[0;32m      7\u001b[0m \u001b[1;32mfrom\u001b[0m \u001b[0mscipy\u001b[0m\u001b[1;33m.\u001b[0m\u001b[0mstats\u001b[0m \u001b[1;32mimport\u001b[0m \u001b[0mchi2_contingency\u001b[0m\u001b[1;33m\u001b[0m\u001b[1;33m\u001b[0m\u001b[0m\n",
      "\u001b[1;31mModuleNotFoundError\u001b[0m: No module named 'statsmodels'"
     ]
    }
   ],
   "source": [
    "# Import libraries\n",
    "import numpy as np\n",
    "import pandas as pd\n",
    "from scipy.stats import binom_test\n",
    "from scipy.stats import f_oneway\n",
    "from statsmodels.stats.multicomp import pairwise_tukeyhsd\n",
    "from scipy.stats import chi2_contingency\n"
   ]
  },
  {
   "cell_type": "code",
   "execution_count": 19,
   "id": "71efa2dd",
   "metadata": {},
   "outputs": [
    {
     "name": "stdout",
     "output_type": "stream",
     "text": [
      "   is_rescue  weight  tail_length  age  color  likes_children  \\\n",
      "0          0       6         2.25    2  black               1   \n",
      "1          0       4         5.36    4  black               0   \n",
      "2          0       7         3.63    3  black               0   \n",
      "3          0       5         0.19    2  black               0   \n",
      "4          0       5         0.37    1  black               1   \n",
      "\n",
      "   is_hypoallergenic      name      breed  \n",
      "0                  0      Huey  chihuahua  \n",
      "1                  0   Cherish  chihuahua  \n",
      "2                  1     Becka  chihuahua  \n",
      "3                  0     Addie  chihuahua  \n",
      "4                  1  Beverlee  chihuahua  \n"
     ]
    }
   ],
   "source": [
    "# Import data\n",
    "dogs = pd.read_csv('dog_data.csv')\n",
    "print(dogs.head())"
   ]
  },
  {
   "cell_type": "code",
   "execution_count": 20,
   "id": "67a58976",
   "metadata": {},
   "outputs": [
    {
     "name": "stdout",
     "output_type": "stream",
     "text": [
      "     is_rescue  weight  tail_length  age  color  likes_children  \\\n",
      "200          0      71         5.74    4  black               0   \n",
      "201          0      26        11.56    3  black               0   \n",
      "202          0      56        10.76    4  black               0   \n",
      "203          0      33         6.32    4  black               1   \n",
      "204          0      54        17.18    4  black               1   \n",
      "..         ...     ...          ...  ...    ...             ...   \n",
      "795          0      24        14.34    6   grey               0   \n",
      "796          0      42         7.04   12   grey               0   \n",
      "797          0      58        10.59    8   grey               1   \n",
      "798          0      62        18.83    1   grey               1   \n",
      "799          0      27        15.18    3   grey               0   \n",
      "\n",
      "     is_hypoallergenic      name    breed  \n",
      "200                  0   Charlot  pitbull  \n",
      "201                  0       Jud  pitbull  \n",
      "202                  0  Rosamund  pitbull  \n",
      "203                  0   Ruthann  pitbull  \n",
      "204                  1     Bryon  pitbull  \n",
      "..                 ...       ...      ...  \n",
      "795                  0    Galvin  whippet  \n",
      "796                  1   Cecilla  whippet  \n",
      "797                  0    Regina  whippet  \n",
      "798                  0   Ellwood  whippet  \n",
      "799                  0      Gard  whippet  \n",
      "\n",
      "[300 rows x 9 columns]\n",
      "     is_rescue  weight  tail_length  age  color  likes_children  \\\n",
      "300          0      58         8.05    1  black               1   \n",
      "301          0      56         9.44    4  black               1   \n",
      "302          1      59         4.04    4  black               1   \n",
      "303          0      70        12.37    1  black               1   \n",
      "304          0      52        11.42    2  black               0   \n",
      "..         ...     ...          ...  ...    ...             ...   \n",
      "595          0       8         3.80    4  white               1   \n",
      "596          0       8         4.24    4  white               1   \n",
      "597          0       8         2.11    3  white               0   \n",
      "598          0      15         2.84    2  white               1   \n",
      "599          0      15         1.40    3  white               0   \n",
      "\n",
      "     is_hypoallergenic     name    breed  \n",
      "300                  0    Moise   poodle  \n",
      "301                  0    Boote   poodle  \n",
      "302                  0  Beatrix   poodle  \n",
      "303                  0    Rabbi   poodle  \n",
      "304                  0   Tallou   poodle  \n",
      "..                 ...      ...      ...  \n",
      "595                  0    Ingra  shihtzu  \n",
      "596                  0   Nadiya  shihtzu  \n",
      "597                  1  Harwell  shihtzu  \n",
      "598                  0  Shannen  shihtzu  \n",
      "599                  0   Shanna  shihtzu  \n",
      "\n",
      "[200 rows x 9 columns]\n"
     ]
    }
   ],
   "source": [
    "# Subset to just whippets, terriers, and pitbulls\n",
    "dogs_wtp = dogs[dogs.breed.isin(['whippet', 'terrier', 'pitbull'])]\n",
    "print(dogs_wtp)\n",
    "# Subset to just poodles and shihtzus\n",
    "dogs_ps = dogs[dogs.breed.isin(['poodle', 'shihtzu'])]\n",
    "print(dogs_ps)"
   ]
  },
  {
   "cell_type": "code",
   "execution_count": 21,
   "id": "d94bddcc",
   "metadata": {},
   "outputs": [
    {
     "name": "stdout",
     "output_type": "stream",
     "text": [
      "700    0\n",
      "701    0\n",
      "702    0\n",
      "703    0\n",
      "704    0\n",
      "      ..\n",
      "795    0\n",
      "796    0\n",
      "797    0\n",
      "798    0\n",
      "799    0\n",
      "Name: is_rescue, Length: 100, dtype: int64\n"
     ]
    }
   ],
   "source": [
    "whippet_rescue = dogs_wtp.is_rescue[dogs_wtp.breed == 'whippet']\n",
    "\n",
    "print(whippet_rescue)\n"
   ]
  },
  {
   "cell_type": "code",
   "execution_count": 22,
   "id": "be05799e",
   "metadata": {},
   "outputs": [
    {
     "name": "stdout",
     "output_type": "stream",
     "text": [
      "6\n"
     ]
    }
   ],
   "source": [
    "num_whippet_rescues  = np.sum(whippet_rescue == 1)\n",
    "print(num_whippet_rescues)\n",
    "\n",
    "num_whippets = len(whippet_rescue)"
   ]
  },
  {
   "cell_type": "code",
   "execution_count": 23,
   "id": "d3ed8771",
   "metadata": {},
   "outputs": [
    {
     "name": "stdout",
     "output_type": "stream",
     "text": [
      "0.5811780106238105\n"
     ]
    }
   ],
   "source": [
    "pval = binom_test(num_whippet_rescues, num_whippets, .08)\n",
    "print(pval)"
   ]
  },
  {
   "cell_type": "code",
   "execution_count": 24,
   "id": "6692c166",
   "metadata": {},
   "outputs": [],
   "source": [
    "# Save the weights of whippets, terriers, and pitbulls\n",
    "wt_whippets = dogs.weight[dogs.breed == 'whippet']\n",
    "wt_terriers = dogs.weight[dogs.breed == 'terrier']\n",
    "wt_pitbulls = dogs.weight[dogs.breed == 'pitbull']"
   ]
  },
  {
   "cell_type": "code",
   "execution_count": 25,
   "id": "fb8469cc",
   "metadata": {},
   "outputs": [
    {
     "name": "stdout",
     "output_type": "stream",
     "text": [
      "3.276415588274815e-17\n"
     ]
    }
   ],
   "source": [
    "Fstat, pval = f_oneway(wt_whippets, wt_terriers, wt_pitbulls)\n",
    "print(pval)"
   ]
  },
  {
   "cell_type": "code",
   "execution_count": 26,
   "id": "896dd3bf",
   "metadata": {},
   "outputs": [],
   "source": [
    "dogs_wtp = dogs[dogs.breed.isin(['whippet', 'terrier', 'pitbull'])]"
   ]
  },
  {
   "cell_type": "code",
   "execution_count": 27,
   "id": "bc2e9772",
   "metadata": {},
   "outputs": [
    {
     "ename": "NameError",
     "evalue": "name 'pairwise_tukeyhsd' is not defined",
     "output_type": "error",
     "traceback": [
      "\u001b[1;31m---------------------------------------------------------------------------\u001b[0m",
      "\u001b[1;31mNameError\u001b[0m                                 Traceback (most recent call last)",
      "\u001b[1;32m~\\AppData\\Local\\Temp/ipykernel_25568/917918060.py\u001b[0m in \u001b[0;36m<module>\u001b[1;34m\u001b[0m\n\u001b[1;32m----> 1\u001b[1;33m \u001b[0moutput\u001b[0m \u001b[1;33m=\u001b[0m \u001b[0mpairwise_tukeyhsd\u001b[0m\u001b[1;33m(\u001b[0m\u001b[0mdogs_wtp\u001b[0m\u001b[1;33m.\u001b[0m\u001b[0mweight\u001b[0m\u001b[1;33m,\u001b[0m \u001b[0mdogs_wtp\u001b[0m\u001b[1;33m.\u001b[0m\u001b[0mbreed\u001b[0m\u001b[1;33m)\u001b[0m\u001b[1;33m\u001b[0m\u001b[1;33m\u001b[0m\u001b[0m\n\u001b[0m\u001b[0;32m      2\u001b[0m \u001b[0mprint\u001b[0m\u001b[1;33m(\u001b[0m\u001b[0moutput\u001b[0m\u001b[1;33m)\u001b[0m\u001b[1;33m\u001b[0m\u001b[1;33m\u001b[0m\u001b[0m\n",
      "\u001b[1;31mNameError\u001b[0m: name 'pairwise_tukeyhsd' is not defined"
     ]
    }
   ],
   "source": [
    "output = pairwise_tukeyhsd(dogs_wtp.weight, dogs_wtp.breed)\n",
    "print(output)"
   ]
  },
  {
   "cell_type": "code",
   "execution_count": 28,
   "id": "560be883",
   "metadata": {},
   "outputs": [],
   "source": [
    "# Subset to just poodles and shihtzus\n",
    "dogs_ps = dogs[dogs.breed.isin(['poodle', 'shihtzu'])]\n"
   ]
  },
  {
   "cell_type": "code",
   "execution_count": 29,
   "id": "0089e314",
   "metadata": {},
   "outputs": [
    {
     "name": "stdout",
     "output_type": "stream",
     "text": [
      "breed  poodle  shihtzu\n",
      "color                 \n",
      "black      17       10\n",
      "brown      13       36\n",
      "gold        8        6\n",
      "grey       52       41\n",
      "white      10        7\n"
     ]
    }
   ],
   "source": [
    "# Create a contingency table of color vs. breed\n",
    "Xtab = pd.crosstab(dogs_ps.color, dogs_ps.breed)\n",
    "print(Xtab)"
   ]
  },
  {
   "cell_type": "code",
   "execution_count": 30,
   "id": "c711e703",
   "metadata": {},
   "outputs": [
    {
     "ename": "NameError",
     "evalue": "name 'chi2_contingency' is not defined",
     "output_type": "error",
     "traceback": [
      "\u001b[1;31m---------------------------------------------------------------------------\u001b[0m",
      "\u001b[1;31mNameError\u001b[0m                                 Traceback (most recent call last)",
      "\u001b[1;32m~\\AppData\\Local\\Temp/ipykernel_25568/2056328549.py\u001b[0m in \u001b[0;36m<module>\u001b[1;34m\u001b[0m\n\u001b[1;32m----> 1\u001b[1;33m \u001b[0mchi2\u001b[0m\u001b[1;33m,\u001b[0m \u001b[0mpval\u001b[0m\u001b[1;33m,\u001b[0m \u001b[0mdof\u001b[0m\u001b[1;33m,\u001b[0m \u001b[0mexp\u001b[0m \u001b[1;33m=\u001b[0m \u001b[0mchi2_contingency\u001b[0m\u001b[1;33m(\u001b[0m\u001b[0mXtab\u001b[0m\u001b[1;33m)\u001b[0m\u001b[1;33m\u001b[0m\u001b[1;33m\u001b[0m\u001b[0m\n\u001b[0m\u001b[0;32m      2\u001b[0m \u001b[0mprint\u001b[0m\u001b[1;33m(\u001b[0m\u001b[0mpval\u001b[0m\u001b[1;33m)\u001b[0m\u001b[1;33m\u001b[0m\u001b[1;33m\u001b[0m\u001b[0m\n",
      "\u001b[1;31mNameError\u001b[0m: name 'chi2_contingency' is not defined"
     ]
    }
   ],
   "source": [
    "chi2, pval, dof, exp = chi2_contingency(Xtab)\n",
    "print(pval)"
   ]
  },
  {
   "cell_type": "code",
   "execution_count": null,
   "id": "58b64472",
   "metadata": {},
   "outputs": [],
   "source": []
  },
  {
   "cell_type": "code",
   "execution_count": null,
   "id": "b782f392",
   "metadata": {},
   "outputs": [],
   "source": []
  },
  {
   "cell_type": "code",
   "execution_count": null,
   "id": "eeb2c83c",
   "metadata": {},
   "outputs": [],
   "source": []
  },
  {
   "cell_type": "code",
   "execution_count": null,
   "id": "aa7c93ff",
   "metadata": {},
   "outputs": [],
   "source": []
  },
  {
   "cell_type": "code",
   "execution_count": null,
   "id": "ed6ce51a",
   "metadata": {},
   "outputs": [],
   "source": []
  }
 ],
 "metadata": {
  "kernelspec": {
   "display_name": "Python 3 (ipykernel)",
   "language": "python",
   "name": "python3"
  },
  "language_info": {
   "codemirror_mode": {
    "name": "ipython",
    "version": 3
   },
   "file_extension": ".py",
   "mimetype": "text/x-python",
   "name": "python",
   "nbconvert_exporter": "python",
   "pygments_lexer": "ipython3",
   "version": "3.9.6"
  }
 },
 "nbformat": 4,
 "nbformat_minor": 5
}
