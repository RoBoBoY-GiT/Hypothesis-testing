{
 "cells": [
  {
   "cell_type": "code",
   "execution_count": 13,
   "id": "d5496e7f",
   "metadata": {},
   "outputs": [],
   "source": [
    "# Import libraries\n",
    "import pandas as pd\n",
    "import numpy as np\n",
    "from scipy.stats import ttest_1samp\n",
    "from scipy.stats import ttest_ind\n",
    "from scipy.stats import chi2_contingency\n"
   ]
  },
  {
   "cell_type": "code",
   "execution_count": 15,
   "id": "5a0e8da9",
   "metadata": {},
   "outputs": [],
   "source": [
    "# Load datasets\n",
    "lifespans = pd.read_csv('familiar_lifespan.csv')\n",
    "iron = pd.read_csv('familiar_iron.csv')"
   ]
  },
  {
   "cell_type": "code",
   "execution_count": 16,
   "id": "38238bcf",
   "metadata": {},
   "outputs": [
    {
     "name": "stdout",
     "output_type": "stream",
     "text": [
      "     pack   lifespan\n",
      "0    vein  76.255090\n",
      "1  artery  76.404504\n",
      "2  artery  75.952442\n",
      "3  artery  76.923082\n",
      "4  artery  73.771212\n"
     ]
    }
   ],
   "source": [
    "print(lifespans.head())\n"
   ]
  },
  {
   "cell_type": "code",
   "execution_count": 17,
   "id": "be5782ff",
   "metadata": {},
   "outputs": [],
   "source": [
    "vein_pack_lifespans = lifespans.lifespan[lifespans.pack=='vein']"
   ]
  },
  {
   "cell_type": "code",
   "execution_count": 18,
   "id": "401643db",
   "metadata": {},
   "outputs": [
    {
     "name": "stdout",
     "output_type": "stream",
     "text": [
      "76.16901335636044\n"
     ]
    }
   ],
   "source": [
    "# Calculate average lifespan for vein pack\n",
    "print(np.mean(vein_pack_lifespans))"
   ]
  },
  {
   "cell_type": "code",
   "execution_count": 19,
   "id": "db8ebb02",
   "metadata": {},
   "outputs": [
    {
     "name": "stdout",
     "output_type": "stream",
     "text": [
      "5.972157921433211e-07\n"
     ]
    }
   ],
   "source": [
    "tstat, pval = ttest_1samp(vein_pack_lifespans, 73)\n",
    "print(pval)"
   ]
  },
  {
   "cell_type": "code",
   "execution_count": 20,
   "id": "35dfa350",
   "metadata": {},
   "outputs": [
    {
     "name": "stdout",
     "output_type": "stream",
     "text": [
      "74.8736622351704\n"
     ]
    }
   ],
   "source": [
    "# Save lifespans for artery pack subscribers\n",
    "artery_pack_lifespans = lifespans.lifespan[lifespans.pack=='artery']\n",
    "\n",
    "# Calculate artery pack life spans\n",
    "print(np.mean(artery_pack_lifespans))"
   ]
  },
  {
   "cell_type": "code",
   "execution_count": 21,
   "id": "80a8fe8d",
   "metadata": {},
   "outputs": [
    {
     "name": "stdout",
     "output_type": "stream",
     "text": [
      "0.05588883079070819\n"
     ]
    }
   ],
   "source": [
    "tstat, pval = ttest_ind(vein_pack_lifespans, artery_pack_lifespans)\n",
    "print(pval)\n"
   ]
  },
  {
   "cell_type": "code",
   "execution_count": 22,
   "id": "f3e26b8e",
   "metadata": {},
   "outputs": [
    {
     "name": "stdout",
     "output_type": "stream",
     "text": [
      "     pack    iron\n",
      "0    vein     low\n",
      "1  artery  normal\n",
      "2  artery  normal\n",
      "3  artery  normal\n",
      "4  artery    high\n"
     ]
    }
   ],
   "source": [
    "print(iron.head())\n"
   ]
  },
  {
   "cell_type": "code",
   "execution_count": 23,
   "id": "6f6c53f0",
   "metadata": {},
   "outputs": [
    {
     "name": "stdout",
     "output_type": "stream",
     "text": [
      "iron    high  low  normal\n",
      "pack                     \n",
      "artery    87   29      29\n",
      "vein      20  140      40\n"
     ]
    }
   ],
   "source": [
    "Xtab = pd.crosstab(iron.pack, iron.iron)\n",
    "print(Xtab)\n"
   ]
  },
  {
   "cell_type": "code",
   "execution_count": 24,
   "id": "83a2c1fd",
   "metadata": {},
   "outputs": [
    {
     "name": "stdout",
     "output_type": "stream",
     "text": [
      "9.359749337433008e-25\n"
     ]
    }
   ],
   "source": [
    "chi2, pval, dof, exp = chi2_contingency(Xtab)\n",
    "print(pval)"
   ]
  },
  {
   "cell_type": "code",
   "execution_count": null,
   "id": "7a90da3e",
   "metadata": {},
   "outputs": [],
   "source": []
  },
  {
   "cell_type": "code",
   "execution_count": null,
   "id": "65634525",
   "metadata": {},
   "outputs": [],
   "source": []
  }
 ],
 "metadata": {
  "kernelspec": {
   "display_name": "Python 3 (ipykernel)",
   "language": "python",
   "name": "python3"
  },
  "language_info": {
   "codemirror_mode": {
    "name": "ipython",
    "version": 3
   },
   "file_extension": ".py",
   "mimetype": "text/x-python",
   "name": "python",
   "nbconvert_exporter": "python",
   "pygments_lexer": "ipython3",
   "version": "3.9.6"
  }
 },
 "nbformat": 4,
 "nbformat_minor": 5
}
